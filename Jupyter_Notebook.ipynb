{
 "cells": [
  {
   "cell_type": "markdown",
   "metadata": {},
   "source": [
    "<center>\n",
    "    <img src=\"https://cf-courses-data.s3.us.cloud-object-storage.appdomain.cloud/IBMDeveloperSkillsNetwork-DS0105EN-SkillsNetwork/labs/Module2/images/SN_web_lightmode.png\" width=\"300\" alt=\"cognitiveclass.ai logo\">\n",
    "</center>\n"
   ]
  },
  {
   "cell_type": "markdown",
   "metadata": {},
   "source": [
    "**Data Science Tools and Ecosystem**"
   ]
  },
  {
   "cell_type": "markdown",
   "metadata": {},
   "source": [
    "****In this notebook, Data Science Tools and Ecosystem are summarized****"
   ]
  },
  {
   "cell_type": "markdown",
   "metadata": {},
   "source": [
    "Some of the commonly used ordered list of data science languages:\n",
    "1. Python\n",
    "2. R\n",
    "3. Java\n",
    "4. SQL\n",
    "5. Julia"
   ]
  },
  {
   "cell_type": "markdown",
   "metadata": {},
   "source": [
    "Some of the commonly used libraries used by Data Scientists include:\n",
    "1. Numpy\n",
    "2. Pandas\n",
    "3. Pytorch\n",
    "4. Matplotlib\n",
    "5. Tensorflow\n",
    "6. Scikit-learn"
   ]
  },
  {
   "cell_type": "markdown",
   "metadata": {},
   "source": [
    "| --- | --- | --- | --- |\n",
    "| Data Science Tools | Purpose | Language | Type |\n",
    "| --- | --- | --- | --- |\n",
    "| Python | General programming language | Python | Language |\n",
    "| --- | --- | --- | --- |\n",
    "| R | Statistical computing and graphics | R | Language |\n",
    "| --- | --- | --- | --- |\n",
    "| Numpy | Numerical computing library | Python | Library |\n",
    "| --- | --- | --- | --- |\n",
    "| Pandas | Data manipulation library | Python | Library |\n",
    "| --- | --- | --- | --- |\n",
    "| RStudio | Integrated development environment | R | IDE |"
   ]
  },
  {
   "cell_type": "markdown",
   "metadata": {},
   "source": [
    "Below are the few examples of evaluating arithmetic expressions in Python:\n",
    "1. Addition\n",
    "2. Subtraction\n",
    "3. Multiplication\n",
    "4. Division"
   ]
  },
  {
   "cell_type": "code",
   "execution_count": 1,
   "metadata": {
    "tags": []
   },
   "outputs": [
    {
     "name": "stdout",
     "output_type": "stream",
     "text": [
      "add:  19\n",
      "sub:  15\n",
      "mul:  56\n",
      "divi:  3.3333333333333335\n"
     ]
    }
   ],
   "source": [
    "#Addition\n",
    "a = 1\n",
    "b = 18\n",
    "add = a+b\n",
    "print(\"add: \",add)\n",
    "\n",
    "#Subtraction\n",
    "a = 29\n",
    "b = 14\n",
    "sub = a-b\n",
    "print(\"sub: \",sub)\n",
    "\n",
    "#Multiplication\n",
    "m = 28\n",
    "n = 2\n",
    "mul = m*n\n",
    "print(\"mul: \",mul)\n",
    "\n",
    "#Division\n",
    "num = 20\n",
    "den = 6\n",
    "divi = num/den\n",
    "print(\"divi: \",divi)"
   ]
  },
  {
   "cell_type": "code",
   "execution_count": 6,
   "metadata": {
    "tags": []
   },
   "outputs": [
    {
     "name": "stdout",
     "output_type": "stream",
     "text": [
      "addandmultiint:  399\n"
     ]
    }
   ],
   "source": [
    "#This is a simple arthmetic expression to add then multiply integers\n",
    "a = 50\n",
    "b = 7\n",
    "\n",
    "addandmultiint = (a+b)*b\n",
    "print(\"addandmultiint: \",addandmultiint)"
   ]
  },
  {
   "cell_type": "code",
   "execution_count": 8,
   "metadata": {
    "tags": []
   },
   "outputs": [
    {
     "name": "stdout",
     "output_type": "stream",
     "text": [
      "483 minutes in hours: 8.05 Hours\n"
     ]
    }
   ],
   "source": [
    "#This will convert 483 minutes to hours by dividing by 60\n",
    "\n",
    "minutes = 483\n",
    "hours = minutes/60\n",
    "print(minutes,\"minutes in hours: {:.2f} Hours\".format(hours))"
   ]
  },
  {
   "cell_type": "markdown",
   "metadata": {},
   "source": [
    "**Objectives of using lists in Python:**\n",
    "\n",
    ". To group related items together\n",
    "\n",
    ". To make code more concise and efficient\n",
    "\n",
    ". It can also use lists to create more complex data structures, such as dictionaries and matrices\n",
    "\n",
    ". To store a collection of items in a specific order"
   ]
  },
  {
   "cell_type": "markdown",
   "metadata": {},
   "source": [
    "**Author:**\n",
    "\n",
    "Mogilipalem Vamsiteja"
   ]
  }
 ],
 "metadata": {
  "kernelspec": {
   "display_name": "Python",
   "language": "python",
   "name": "conda-env-python-py"
  },
  "language_info": {
   "codemirror_mode": {
    "name": "ipython",
    "version": 3
   },
   "file_extension": ".py",
   "mimetype": "text/x-python",
   "name": "python",
   "nbconvert_exporter": "python",
   "pygments_lexer": "ipython3",
   "version": "3.7.12"
  }
 },
 "nbformat": 4,
 "nbformat_minor": 4
}
